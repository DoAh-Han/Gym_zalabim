{
 "cells": [
  {
   "cell_type": "code",
   "execution_count": null,
   "metadata": {},
   "outputs": [],
   "source": [
    "import pandas as pd\n",
    "import numpy as np\n",
    "from sklearn.model_selection import train_test_split\n",
    "from sklearn.preprocessing import MinMaxScaler\n",
    "from statsmodels.stats.outliers_influence import variance_inflation_factor\n",
    "from sklearn.metrics import accuracy_score, precision_score, recall_score, f1_score, silhouette_samples, silhouette_score\n",
    "from sklearn.linear_model import LinearRegression\n",
    "from sklearn.cluster import KMeans\n",
    "import sklearn\n",
    "import statsmodels\n",
    "import statsmodels.formula.api as sm\n",
    "import matplotlib.pyplot as plt\n",
    "import seaborn as sns\n",
    "import copy\n",
    "import requests\n",
    "import pprint\n",
    "import xgboost\n",
    "import scipy\n",
    "import warnings\n",
    "from datetime import datetime\n",
    "from scipy import stats\n",
    "from xgboost import XGBClassifier\n",
    "from urllib import parse\n",
    "from bs4 import BeautifulSoup\n",
    "\n",
    "# 지수 형태의 실수를 소수점 3자리까지 표기\n",
    "pd.options.display.float_format = \"{:.3f}\".format\n",
    "\n",
    "# 공유 폴더 경로(나중에 경로 변경)\n",
    "dirShare = \"G:/.shortcut-targets-by-id/188U2ypi3eUvuInaixMTTbbFctprRo9e4/GYM살라빔\"\n",
    "\n",
    "warnings.filterwarnings(\"ignore\")\n"
   ]
  },
  {
   "cell_type": "code",
   "execution_count": null,
   "metadata": {},
   "outputs": [],
   "source": [
    "# 라이브러리 버전 확인\n",
    "print(\"pandas 현재 버전 : \" + pd.__version__)\n",
    "print(\"scikit-learn 현재 버전 : \" + sklearn.__version__)\n",
    "print(\"scipy 현재 버전 : \"+ scipy.__version__)\n",
    "print(\"statsmodels 현재 버전 : \" + statsmodels.__version__)\n",
    "print(\"xgboost 현재 버전 : \" + xgboost.__version__)"
   ]
  },
  {
   "cell_type": "markdown",
   "metadata": {},
   "source": [
    "# 데이터 불러오고 전처리"
   ]
  },
  {
   "cell_type": "markdown",
   "metadata": {},
   "source": [
    "## 기본전처리"
   ]
  },
  {
   "cell_type": "code",
   "execution_count": null,
   "metadata": {},
   "outputs": [],
   "source": [
    "# def pre_data(datadir=None) : \n",
    "#     df = pd.read_csv(datadir)\n",
    "#     df[\"ownerChange\"].replace({\"same\":0},inplace=True)\n",
    "#     df[\"ownerChange\"].replace({\"change\":1},inplace=True)\n",
    "#     df = pd.get_dummies(df, columns=[\"instkind\"], prefix=[\"instkind\"], prefix_sep=\"_\", dtype=int)\n",
    "#     df.dropna(axis=0, how=\"any\", inplace=True)\n"
   ]
  },
  {
   "cell_type": "code",
   "execution_count": null,
   "metadata": {},
   "outputs": [],
   "source": [
    "# train.csv 데이터 프레임으로 불러오기\n",
    "df = pd.read_csv(dirShare+\"/data/train.csv\")\n",
    "\n",
    "# df 정보 확인\n",
    "# df.info()\n",
    "\n",
    "# df 상위 10개 불러오기\n",
    "# df.head(10)"
   ]
  },
  {
   "cell_type": "code",
   "execution_count": null,
   "metadata": {},
   "outputs": [],
   "source": [
    "# X_t = pd.read_csv(dirShare+\"/data/test.csv\")\n",
    "\n",
    "# X_t.info()\n",
    "# X_t.head()"
   ]
  },
  {
   "cell_type": "code",
   "execution_count": null,
   "metadata": {},
   "outputs": [],
   "source": [
    "# X_t.shape[0] - X_t.count()"
   ]
  },
  {
   "cell_type": "code",
   "execution_count": null,
   "metadata": {},
   "outputs": [],
   "source": [
    "# 데이터 개수 확인하기\n",
    "print(\"데이터 개수 : \", df.shape[0])\n",
    "\n",
    "# len(df)를 써도 동일"
   ]
  },
  {
   "cell_type": "code",
   "execution_count": null,
   "metadata": {},
   "outputs": [],
   "source": [
    "# 숫자 형식의 컬럼의 기술통계값을 출력\n",
    "# df.describe()"
   ]
  },
  {
   "cell_type": "code",
   "execution_count": null,
   "metadata": {},
   "outputs": [],
   "source": [
    "# 컬럼별 null 값 확인하기\n",
    "df.shape[0] - df.count()"
   ]
  },
  {
   "cell_type": "code",
   "execution_count": null,
   "metadata": {},
   "outputs": [],
   "source": [
    "# 아직 운영 중인 병원을 1로 변환\n",
    "df.replace({\"open\":1},inplace=True)\n",
    "# 폐업한 병원을 0으로 변환\n",
    "df.replace({\" close\":0}, inplace=True)\n",
    "# unique() 메서드를 통해 \"OC\" 컬럼의 데이터를 확인\n",
    "# df[\"OC\"].unique()"
   ]
  },
  {
   "cell_type": "code",
   "execution_count": null,
   "metadata": {},
   "outputs": [],
   "source": [
    "# 오너 변환 여부\n",
    "df[\"ownerChange\"].replace({\"same\":0},inplace=True)\n",
    "df[\"ownerChange\"].replace({\"change\":1},inplace=True)\n",
    "# df[\"ownerChange\"].unique()"
   ]
  },
  {
   "cell_type": "code",
   "execution_count": null,
   "metadata": {},
   "outputs": [],
   "source": [
    "df[\"instkind\"].unique()"
   ]
  },
  {
   "cell_type": "code",
   "execution_count": null,
   "metadata": {},
   "outputs": [],
   "source": [
    "df_clst = df[[\"OC\", \"bedCount\", \"profit1\", \"surplus1\", \"profit2\", \"surplus2\", \n",
    "                  \"employee1\", \"employee2\", \"instkind\", \"sido\"]]\n",
    "\n",
    "df_clst.info()"
   ]
  },
  {
   "cell_type": "code",
   "execution_count": null,
   "metadata": {},
   "outputs": [],
   "source": [
    "# 병원의 종류를, get_dummies를 이용해 one-hot-encoding\n",
    "df = pd.get_dummies(df, columns=[\"instkind\"], prefix=[\"instkind\"], prefix_sep=\"_\", dtype=int)\n",
    "df_clst = pd.get_dummies(df_clst, columns=[\"instkind\"], prefix=[\"instkind\"], prefix_sep=\"_\", dtype=int)"
   ]
  },
  {
   "cell_type": "code",
   "execution_count": null,
   "metadata": {},
   "outputs": [],
   "source": [
    "# 개업한 날짜는 변수로서 의미가 없음. 모델은 날짜를 인식하지 못하기 때문에\n",
    "# 개업 날짜와 폐업 날짜의 차이로 변수를 조정할 필요가 있음\n",
    "\n",
    "date_of_2018 = \"2018-01-01\"\n",
    "\n",
    "# 문자 타입을 date 타입으로\n",
    "\n",
    "df[\"openDate\"] = df[\"openDate\"].apply(lambda x : datetime.strptime(str(x), \"%Y%m%d\"))\n",
    "\n",
    "# 날짜 차이를 새로운 컬럼으로 생성, 데이터 프레임 중간에 삽입\n",
    "df.insert(1, \"dif_date\", datetime.strptime(date_of_2018,\"%Y-%m-%d\")-df[\"openDate\"])\n",
    "df[\"dif_date\"] = df[\"dif_date\"].dt.days\n",
    "\n",
    "df[\"dif_date\"].tail()"
   ]
  },
  {
   "cell_type": "code",
   "execution_count": null,
   "metadata": {},
   "outputs": [],
   "source": [
    "df_clst.insert(1, column=\"dif_date\", value=df[\"dif_date\"])\n",
    "df_clst.info()"
   ]
  },
  {
   "cell_type": "code",
   "execution_count": null,
   "metadata": {},
   "outputs": [],
   "source": [
    "# 영어로 돼 있는 '시도'를 한글로 변환\n",
    "\n",
    "df[\"sido\"].replace(['choongnam', 'gyeongnam', 'gyeonggi', 'incheon', 'busan',\n",
    "       'jeonnam', 'seoul', 'jeonbuk', 'choongbuk', 'ulsan', 'daejeon',\n",
    "       'daegu', 'gyeongbuk', 'gangwon', 'gwangju', 'sejong'], \n",
    "       [\"충청남도\", \"경상남도\", \"경기도\", \"인천광역시\", '부산광역시', '전라남도', '서울특별시', \n",
    "        '전라북도', '충청북도', '울산광역시', '대전광역시', '대구광역시', \"경상북도\", \"강원도\", \"광주광역시\", \"세종특별자치시\"],inplace=True)\n",
    "\n",
    "df_clst[\"sido\"].replace(['choongnam', 'gyeongnam', 'gyeonggi', 'incheon', 'busan',\n",
    "       'jeonnam', 'seoul', 'jeonbuk', 'choongbuk', 'ulsan', 'daejeon',\n",
    "       'daegu', 'gyeongbuk', 'gangwon', 'gwangju', 'sejong'], \n",
    "       [\"충청남도\", \"경상남도\", \"경기도\", \"인천광역시\", '부산광역시', '전라남도', '서울특별시', \n",
    "        '전라북도', '충청북도', '울산광역시', '대전광역시', '대구광역시', \"경상북도\", \"강원도\", \"광주광역시\", \"세종특별자치시\"],inplace=True)\n",
    "\n",
    "print(\"df의 시도 : \",df[\"sido\"].unique())\n",
    "print(\"df_clst의 시도 : \",df_clst[\"sido\"].unique())"
   ]
  },
  {
   "cell_type": "markdown",
   "metadata": {},
   "source": [
    "## 심화전처리"
   ]
  },
  {
   "cell_type": "code",
   "execution_count": null,
   "metadata": {},
   "outputs": [],
   "source": [
    "# 2017년 지역별 인구수 데이터\n",
    "# https://kosis.kr/statHtml/statHtml.do?orgId=101&tblId=DT_1B040A3\n",
    "pop = pd.read_csv(dirShare+\"/data/행정구역_시군구_별__성별_인구수_20230718231833.csv\", header=1, encoding=\"cp949\")\n",
    "pop.info()\n",
    "pop.head()"
   ]
  },
  {
   "cell_type": "code",
   "execution_count": null,
   "metadata": {},
   "outputs": [],
   "source": [
    "# df와 pop(인구수) join\n",
    "df_new = pd.merge(df, pop, how=\"inner\", left_on=\"sido\", right_on=\"행정구역(시군구)별\")\n",
    "df_clst = pd.merge(df_clst, pop, how=\"inner\", left_on=\"sido\", right_on=\"행정구역(시군구)별\")\n",
    "print(df_new.head())\n",
    "print(\"-*-*-*-*-*-*-*-*-*-*-*-*-*-*-*-*-*-*-*-*-*-*-\")\n",
    "print(df_clst.head())"
   ]
  },
  {
   "cell_type": "code",
   "execution_count": null,
   "metadata": {},
   "outputs": [],
   "source": [
    "# 시도를 one-hot-encoding\n",
    "df_new = pd.get_dummies(df_new, columns=[\"sido\"], prefix=[\"sido\"], prefix_sep=\"_\", dtype=int)\n",
    "df_clst = pd.get_dummies(df_clst, columns=[\"sido\"], prefix=[\"sido\"], prefix_sep=\"_\", dtype=int)\n",
    "df_new.info()"
   ]
  },
  {
   "cell_type": "code",
   "execution_count": null,
   "metadata": {},
   "outputs": [],
   "source": [
    "# 병원 군집을 통해 결측치 예측을 하고자 함, surplus1 / 2, profit1 / 2, employee 1 / 2\n",
    "df_clst.drop(columns=\"행정구역(시군구)별\", axis=1, inplace=True)\n",
    "\n",
    "df_clst.info()"
   ]
  },
  {
   "cell_type": "code",
   "execution_count": null,
   "metadata": {},
   "outputs": [],
   "source": [
    "# NaN 값이 없는 컬럼만 남기고, 지역 데이터 없애기\n",
    "df_kmeans = df_clst.dropna(axis=1, how=\"any\")\n",
    "df_kmeans = df_kmeans.iloc[:, :12]\n",
    "df_kmeans.info()"
   ]
  },
  {
   "cell_type": "markdown",
   "metadata": {},
   "source": [
    "## kmeans를 통한 병원 세그먼트 군집"
   ]
  },
  {
   "cell_type": "code",
   "execution_count": null,
   "metadata": {},
   "outputs": [],
   "source": [
    "def visualize_silhouette(cluster_lists, X_features): \n",
    "\n",
    "    import matplotlib.cm as cm\n",
    "    import math\n",
    "\n",
    "    # 입력값으로 클러스터링 갯수들을 리스트로 받아서, 각 갯수별로 클러스터링을 적용하고 실루엣 개수를 구함\n",
    "    n_cols = len(cluster_lists)\n",
    "\n",
    "    # plt.subplots()으로 리스트에 기재된 클러스터링 수만큼의 sub figures를 가지는 axs 생성 \n",
    "    fig, axs = plt.subplots(figsize=(4*n_cols, 4), nrows=1, ncols=n_cols)\n",
    "\n",
    "    # 리스트에 기재된 클러스터링 갯수들을 차례로 iteration 수행하면서 실루엣 개수 시각화\n",
    "    for ind, n_cluster in enumerate(cluster_lists):\n",
    "\n",
    "        # KMeans 클러스터링 수행하고, 실루엣 스코어와 개별 데이터의 실루엣 값 계산. \n",
    "        clusterer = KMeans(n_clusters = n_cluster, max_iter=500, random_state=0)\n",
    "        cluster_labels = clusterer.fit_predict(X_features)\n",
    "\n",
    "        sil_avg = silhouette_score(X_features, cluster_labels)\n",
    "        sil_values = silhouette_samples(X_features, cluster_labels)\n",
    "\n",
    "        y_lower = 10\n",
    "        axs[ind].set_title('Number of Cluster : '+ str(n_cluster)+'\\n' \\\n",
    "                          'Silhouette Score :' + str(round(sil_avg,3)) )\n",
    "        axs[ind].set_xlabel(\"The silhouette coefficient values\")\n",
    "        axs[ind].set_ylabel(\"Cluster label\")\n",
    "        axs[ind].set_xlim([-0.1, 1])\n",
    "        axs[ind].set_ylim([0, len(X_features) + (n_cluster + 1) * 10])\n",
    "        axs[ind].set_yticks([])  # Clear the yaxis labels / ticks\n",
    "        axs[ind].set_xticks([0, 0.2, 0.4, 0.6, 0.8, 1])\n",
    "\n",
    "        # 클러스터링 갯수별로 fill_betweenx( )형태의 막대 그래프 표현. \n",
    "        for i in range(n_cluster):\n",
    "            ith_cluster_sil_values = sil_values[cluster_labels==i]\n",
    "            ith_cluster_sil_values.sort()\n",
    "\n",
    "            size_cluster_i = ith_cluster_sil_values.shape[0]\n",
    "            y_upper = y_lower + size_cluster_i\n",
    "\n",
    "            color = cm.nipy_spectral(float(i) / n_cluster)\n",
    "            axs[ind].fill_betweenx(np.arange(y_lower, y_upper), 0, ith_cluster_sil_values, \\\n",
    "                                facecolor=color, edgecolor=color, alpha=0.7)\n",
    "            axs[ind].text(-0.05, y_lower + 0.5 * size_cluster_i, str(i))\n",
    "            y_lower = y_upper + 10\n",
    "\n",
    "        axs[ind].axvline(x=sil_avg, color=\"red\", linestyle=\"--\")"
   ]
  },
  {
   "cell_type": "code",
   "execution_count": null,
   "metadata": {},
   "outputs": [],
   "source": [
    "scaler1 = MinMaxScaler()\n",
    "\n",
    "scalerX1 = scaler1.fit(df_kmeans.iloc[:,1:])\n",
    "\n",
    "X_mmsc1 = scaler1.transform(df_kmeans.iloc[:,1:])"
   ]
  },
  {
   "cell_type": "code",
   "execution_count": null,
   "metadata": {},
   "outputs": [],
   "source": [
    "visualize_silhouette([2,3,4,5,7,9,10,12,15], X_mmsc1)\n",
    "# 10개가 됐을 때 실루엣 계수가 0.768으로 최대"
   ]
  },
  {
   "cell_type": "code",
   "execution_count": null,
   "metadata": {},
   "outputs": [],
   "source": [
    "clst_kmeans = KMeans(n_clusters=10, random_state=0, max_iter=500)\n",
    "\n",
    "model = clst_kmeans.fit(X_mmsc1)\n",
    "clst_label = model.labels_"
   ]
  },
  {
   "cell_type": "code",
   "execution_count": null,
   "metadata": {},
   "outputs": [],
   "source": [
    "df_kmeans[\"NumberOfCluster\"] = pd.Series(clst_label)\n",
    "df_kmeans.tail()"
   ]
  },
  {
   "cell_type": "code",
   "execution_count": null,
   "metadata": {},
   "outputs": [],
   "source": [
    "# 결측치가 있는 컬럼 추출\n",
    "df_null = df_clst[df_clst.isna().any(axis=1)]\n",
    "df_null.head(10)"
   ]
  },
  {
   "cell_type": "code",
   "execution_count": null,
   "metadata": {},
   "outputs": [],
   "source": [
    "# 병원 정보에 NULL이 존재하는 부분을 다른 값으로 대체할 수 없음\n",
    "# 병원의 매출, 비용, 이익, 직원 수와 같은 값을 다른 병원의 평균이나 중앙값으로 대체하면 안 됨\n",
    "# 회귀대체법을 하기에는 종속 변수로 둘 만한 속성값이 존재 X\n",
    "# null이 포함된 데이터가 전체 데이터의 10% 미만이므로 \n",
    "\n",
    "df.dropna(axis=0, how=\"any\", inplace=True)\n",
    "df.shape[0]"
   ]
  },
  {
   "cell_type": "code",
   "execution_count": null,
   "metadata": {},
   "outputs": [],
   "source": [
    "# 데이터 값이 0으로만 돼 있는 컬럼 삭제\n",
    "df.drop(columns=[\"receivableL1\", \"receivableL2\"], axis=1, inplace=True)\n",
    "# 시군구 코드 삭제\n",
    "df.drop(columns=\"sgg\", axis=1, inplace=True)\n",
    "# 병원 id는 분석에 있어서 의미가 없는 데이터이므로 삭제\n",
    "df.drop(columns=\"inst_id\",inplace=True)\n",
    "# 데이터 프레임에서 drop 됐는지 확인\n",
    "# df.columns"
   ]
  },
  {
   "cell_type": "code",
   "execution_count": null,
   "metadata": {},
   "outputs": [],
   "source": [
    "df_drop_obj = copy.deepcopy(df)  # 깊은 복사\n",
    "df_dr_obj_cols = df_drop_obj.columns.to_list()\n",
    "# df_dr_obj_cols"
   ]
  },
  {
   "cell_type": "markdown",
   "metadata": {},
   "source": [
    "🫡시도코드와 시군구 코드를 학습시킬 수도 있습니다.  \n",
    "One-Hot Encoding을 이용하면 되죠.  \n",
    "하지만 재무 정보와 관련된 현 데이터에서는 의미가 없을 것 같습니다.  \n",
    "그 이유는 지역의 이름 자체가, 변수로서 큰 영향력을 가지지는 않을 것 같거든요!!  \n",
    "지역이 변수로 영향을 가지려면, 그 지역의 면적, 인구밀도, 평균 소득💸 등으로 대체해야 할 것 같습니다.  \n",
    "일단 지금은 재무 정보에 대한 것으로만 예측을 해보죠!  "
   ]
  },
  {
   "cell_type": "code",
   "execution_count": null,
   "metadata": {},
   "outputs": [],
   "source": [
    "df_drop_obj2 = copy.deepcopy(df_drop_obj)\n",
    "\n",
    "# 컬럼 데이터 타입이 'object'인 컬럼 삭제\n",
    "for i in range(len(df_dr_obj_cols)) : \n",
    "    if df_drop_obj.iloc[:,i].dtype == \"object\" : \n",
    "        df_drop_obj2.drop(columns=df_dr_obj_cols[i], inplace=True)\n",
    "\n",
    "df_drop_obj = df_drop_obj2\n",
    "# df_drop_obj.info()"
   ]
  },
  {
   "cell_type": "code",
   "execution_count": null,
   "metadata": {},
   "outputs": [],
   "source": [
    "# 개업 날짜를 drop한 새로운 데이터프레임 생성\n",
    "df_hos = df_drop_obj.drop(columns=\"openDate\")"
   ]
  },
  {
   "cell_type": "markdown",
   "metadata": {},
   "source": [
    "## SVD를 위한 작업"
   ]
  },
  {
   "cell_type": "markdown",
   "metadata": {},
   "source": [
    "데이터의 양은 독립변수 수의 3배 이상은 돼야 함.\n",
    "독립변수로 작용하는 컬럼 수가 57개이므로 다중 공선성과 과적합, 차원의 저주의 영향이 예상되므로\n",
    "차원 축소 필요"
   ]
  },
  {
   "cell_type": "code",
   "execution_count": null,
   "metadata": {},
   "outputs": [],
   "source": [
    "# 독립변수 컬럼 샤피로 윌크 검정으로 정규성 확인\n",
    "# H0 : 변수는 정규성을 따른다.\n",
    "# H1 : 변수는 정규성을 따르지 않는다.\n",
    "\n",
    "cnt = 0\n",
    "\n",
    "for i in range(df_hos.shape[1]) : \n",
    "    cnt += 1\n",
    "    shapiro_tt = stats.shapiro(df_hos.iloc[:,i])\n",
    "    print(cnt)\n",
    "    if shapiro_tt[1] > 0.05 : \n",
    "        print(\"컬럼명 \",df_hos.columns[i],\"는(은) 귀무가설을 채택, 정규성을 따른다고 가정할 수 있습니다.\")\n",
    "    else : \n",
    "        print(\"컬럼명 \",df_hos.columns[i],\"는(은) 귀무가설을 기각, 정규성을 따른다고 가정할 수 없습니다.\")\n",
    "    print(\"-*-*-*-*-*-*-*-*-*-*-*-*-*-*-*-*-*-*-*-*-*-*-*-*-*-\")"
   ]
  },
  {
   "cell_type": "code",
   "execution_count": null,
   "metadata": {},
   "outputs": [],
   "source": [
    "import matplotlib.pyplot as plt\n",
    "\n",
    "plt.figure(figsize=(10,5))    # 그래프 사이즈 지정\n",
    "stats.probplot(df_hos.iloc[:,7], dist=stats.norm, plot=plt) #Sample은 어느 정도 어긋났는지 비교할 분포,\n",
    "                                                  #dist는 기준이 되는 분포, 정규 분포가 아니어도 된다.\n",
    "                                                  #plot은 주로 matplotlib.plt 객체 사용\n",
    "plt.show()"
   ]
  },
  {
   "cell_type": "code",
   "execution_count": null,
   "metadata": {},
   "outputs": [],
   "source": [
    "scaler = MinMaxScaler()\n",
    "\n",
    "scalerX = scaler.fit(df_hos.iloc[:,1:])\n",
    "\n",
    "X_mmsc = scaler.transform(df_hos.iloc[:,1:])\n",
    "\n",
    "# X_mmsc"
   ]
  },
  {
   "cell_type": "code",
   "execution_count": null,
   "metadata": {},
   "outputs": [],
   "source": [
    "import numpy as np\n",
    "from sklearn.decomposition import TruncatedSVD\n",
    "\n",
    "# 차원 축소를 위한 SVD 수행\n",
    "svd = TruncatedSVD(n_components=6)\n",
    "make_svd = svd.fit(X_mmsc)\n",
    "X_train_red = svd.transform(X_mmsc)"
   ]
  },
  {
   "cell_type": "markdown",
   "metadata": {},
   "source": [
    "## statsmodels를 사용한 vif 계산"
   ]
  },
  {
   "cell_type": "code",
   "execution_count": null,
   "metadata": {},
   "outputs": [],
   "source": [
    "# 병원 개/폐업 정보의 다중 회귀 분석과 검정 통계량 확인\n",
    "Models1 = sm.ols(\"OC ~ \" + \"+\".join(df_hos.columns[1:]), data=df_hos)\n",
    "result1 = Models1.fit()\n",
    "print(result1.summary())"
   ]
  },
  {
   "cell_type": "code",
   "execution_count": null,
   "metadata": {},
   "outputs": [],
   "source": [
    "# 독립변수 X와 종속변수 y로 분리\n",
    "X = df_hos.iloc[:,1:]\n",
    "y = df_hos.iloc[:,0]"
   ]
  },
  {
   "cell_type": "code",
   "execution_count": null,
   "metadata": {},
   "outputs": [],
   "source": [
    "# 독립변수들간 다중 공선성 확인, vif 지수 10 이상이면 변수 제거 고려\n",
    "vif = pd.DataFrame()\n",
    "vif[\"VIF Factor\"] = [variance_inflation_factor(X.values,i) for i in range(X.shape[1])]\n",
    "vif[\"features\"] = X.columns\n",
    "vif = vif.sort_values(\"VIF Factor\").reset_index(drop=True)\n",
    "vif"
   ]
  },
  {
   "cell_type": "code",
   "execution_count": null,
   "metadata": {},
   "outputs": [],
   "source": [
    "# vif 지수가 10미만인 컬럼명\n",
    "vif[vif[\"VIF Factor\"]<10.0][\"features\"]"
   ]
  },
  {
   "cell_type": "code",
   "execution_count": null,
   "metadata": {},
   "outputs": [],
   "source": [
    "feat_vif = vif[vif[\"VIF Factor\"]<10.0][\"features\"]\n",
    "\n",
    "fvList = [feat_vif[f] for f in range(len(feat_vif))]"
   ]
  },
  {
   "cell_type": "code",
   "execution_count": null,
   "metadata": {},
   "outputs": [],
   "source": [
    "fvList.insert(0, \"OC\")"
   ]
  },
  {
   "cell_type": "code",
   "execution_count": null,
   "metadata": {},
   "outputs": [],
   "source": [
    "df_drop_vif = df_hos[fvList]\n",
    "# df_drop_vif.head()"
   ]
  },
  {
   "cell_type": "code",
   "execution_count": null,
   "metadata": {},
   "outputs": [],
   "source": [
    "Models2 = sm.ols(\"OC ~ \" + \"+\".join(df_drop_vif.columns[1:]), data=df_drop_vif)\n",
    "result2 = Models2.fit()\n",
    "print(result2.summary())"
   ]
  },
  {
   "cell_type": "code",
   "execution_count": null,
   "metadata": {},
   "outputs": [],
   "source": [
    "\"\"\"\n",
    "vif 지수가 10 이상이라고 무조건 제거하면 안 됨!\n",
    "\"\"\""
   ]
  },
  {
   "cell_type": "markdown",
   "metadata": {},
   "source": [
    "# 모델학습"
   ]
  },
  {
   "cell_type": "code",
   "execution_count": null,
   "metadata": {},
   "outputs": [],
   "source": [
    "X_train, X_test, y_train, y_test = train_test_split(X, y, test_size=0.2, random_state=626, stratify=y)\n",
    "print(X_train.shape)\n",
    "print(X_test.shape)\n",
    "print(y_train.shape)\n",
    "print(y_test.shape)"
   ]
  },
  {
   "cell_type": "code",
   "execution_count": null,
   "metadata": {},
   "outputs": [],
   "source": [
    "model_xgb = XGBClassifier()\n",
    "xgb_model = model_xgb.fit(X_train, y_train)\n",
    "\n",
    "y_pred = xgb_model.predict(X_test)\n",
    "y_pred_prob = xgb_model.predict_proba(X_test)[:1]"
   ]
  },
  {
   "cell_type": "code",
   "execution_count": null,
   "metadata": {},
   "outputs": [],
   "source": [
    "X2 = df_drop_vif.iloc[:,1:]\n",
    "y2 = df_drop_vif.iloc[:,0]\n",
    "\n",
    "X_train2, X_test2, y_train2, y_test2= train_test_split(X2, y2, test_size=0.2, random_state=626, stratify=y2)\n",
    "print(X_train2.shape)\n",
    "print(X_test2.shape)\n",
    "print(y_train2.shape)\n",
    "print(y_test2.shape)\n",
    "\n",
    "model_xgb2 = XGBClassifier()\n",
    "xgb_model2 = model_xgb2.fit(X_train2, y_train2)\n",
    "\n",
    "y_pred2 = xgb_model2.predict(X_test2)\n",
    "y_pred_prob2 = xgb_model2.predict_proba(X_test2)[:1]\n",
    "\n",
    "print(\"정확도 : \",accuracy_score(y_test2, y_pred2))\n",
    "print(\"f1 socre : \",f1_score(y_test2, y_pred2))"
   ]
  },
  {
   "cell_type": "code",
   "execution_count": null,
   "metadata": {},
   "outputs": [],
   "source": [
    "y_train_red = df_hos.iloc[:,0].to_numpy()\n",
    "\n",
    "print(y_train_red)\n",
    "print(y_train_red.shape)"
   ]
  },
  {
   "cell_type": "code",
   "execution_count": null,
   "metadata": {},
   "outputs": [],
   "source": [
    "X_train3, X_test3, y_train3, y_test3= train_test_split(X_train_red, y_train_red, test_size=0.2, random_state=626, stratify=y_train_red)\n",
    "print(X_train3.shape)\n",
    "print(X_test3.shape)\n",
    "print(y_train3.shape)\n",
    "print(y_test3.shape)\n",
    "\n",
    "model_xgb_svd = XGBClassifier()\n",
    "xgb_model_svd = model_xgb_svd.fit(X_train3, y_train3)\n",
    "\n",
    "y_pred3 = xgb_model_svd.predict(X_test3)\n",
    "\n",
    "print(\"정확도 : \",accuracy_score(y_test3, y_pred3))\n",
    "print(\"f1 socre : \",f1_score(y_test3, y_pred3))"
   ]
  },
  {
   "cell_type": "markdown",
   "metadata": {},
   "source": [
    "# 병원 정보 api 불러오기"
   ]
  },
  {
   "cell_type": "code",
   "execution_count": null,
   "metadata": {},
   "outputs": [],
   "source": [
    "\"\"\"\n",
    "https://apis.data.go.kr/B551182/hospInfoServicev2/getHospBasisList?serviceKey=repbMvjCXw96iTs6wjKM3Htm1H480VcdawruKmikMmOYZF8aVD%2FrJDkfGoyLeTuS5Y1KEOzUrwwPIu87UQ9LbQ%3D%3D&pageNo=1&numOfRows=10&sidoCd=110000&sgguCd=110019&emdongNm=%EC%8B%A0%EB%82%B4%EB%8F%99&yadmNm=%EC%84%9C%EC%9A%B8%EC%9D%98%EB%A3%8C%EC%9B%90&zipCd=2010&clCd=11&dgsbjtCd=01&xPos=127.09854004628151&yPos=37.6132113197367&radius=3000\n",
    "\"\"\""
   ]
  },
  {
   "cell_type": "code",
   "execution_count": null,
   "metadata": {},
   "outputs": [],
   "source": [
    "serviceKey = \"repbMvjCXw96iTs6wjKM3Htm1H480VcdawruKmikMmOYZF8aVD/rJDkfGoyLeTuS5Y1KEOzUrwwPIu87UQ9LbQ==\"\n",
    "serviceKeyDecoded = parse.unquote(serviceKey, 'UTF-8')\n",
    "\n",
    "url = \"http://apis.data.go.kr/B551182/hospInfoServicev2/getHospBasisList\"\n",
    "returnType=\"xml\"\n",
    "Pindex = 1\n",
    "Psize = 1000\n",
    "\n",
    "\n",
    "queryParams = '?' + parse.urlencode({ parse.quote_plus(\"serviceKey\") : serviceKeyDecoded,\n",
    "                                parse.quote_plus(\"numOfRows\") : '10000',\n",
    "                                parse.quote_plus(\"pageNo\") : '2'\n",
    "                                    })\n",
    "\n",
    "res = requests.get(url + queryParams)"
   ]
  },
  {
   "cell_type": "code",
   "execution_count": null,
   "metadata": {},
   "outputs": [],
   "source": [
    "soup = BeautifulSoup(res.text, 'lxml-xml')\n",
    "items = soup.find_all(\"item\")"
   ]
  },
  {
   "cell_type": "code",
   "execution_count": null,
   "metadata": {},
   "outputs": [],
   "source": [
    "pprint.pprint(items)"
   ]
  },
  {
   "cell_type": "code",
   "execution_count": null,
   "metadata": {},
   "outputs": [],
   "source": [
    "len(items)"
   ]
  },
  {
   "cell_type": "code",
   "execution_count": null,
   "metadata": {},
   "outputs": [],
   "source": [
    "def parse():\n",
    "    try:\n",
    "        ADDR = item.find(\"addr\").get_text()\n",
    "        CLCD = item.find(\"clCd\").get_text()\n",
    "        CLCDNM = item.find(\"clCdNm\").get_text()\n",
    "        EMDONGNM = item.find(\"emdongNm\").get_text()\n",
    "        ESTBDB = item.find(\"estbDd\").get_text()\n",
    "        POSTNO = item.find(\"postNo\").get_text()\n",
    "        SGGUCD = item.find(\"sgguCd\").get_text()\n",
    "        SGGUCDNM = item.find(\"sgguCdNm\").get_text()\n",
    "        SIDOCD = item.find(\"sidoCd\").get_text()\n",
    "        SIDOCDNM = item.find(\"sidoCdNm\").get_text()\n",
    "        XPOS = item.find(\"XPos\").get_text()\n",
    "        YPOS = item.find(\"YPos\").get_text()\n",
    "        YADMNM = item.find(\"yadmNm\").get_text()\n",
    "        YKIHO = item.find(\"ykiho\").get_text()\n",
    "        return {\n",
    "            \"주소\":ADDR,\n",
    "            \"종별코드\":CLCD,\n",
    "            \"종별코드명\":CLCDNM,\n",
    "            \"읍면동\":EMDONGNM,\n",
    "            \"개설일자\":ESTBDB,\n",
    "            \"Post No.\":POSTNO,\n",
    "            \"시군구코드\":SGGUCD,\n",
    "            \"시군구코드명\":SGGUCDNM,\n",
    "            \"시도코드\":SIDOCD,\n",
    "            \"시도코드명\":SIDOCDNM,\n",
    "            \"x좌표\":XPOS,\n",
    "            'y좌표':YPOS,\n",
    "            \"요양기관명\":YADMNM,\n",
    "            \"암호화요양기호\":YKIHO\n",
    "        }\n",
    "    except AttributeError as e:\n",
    "        return {\n",
    "            \"주소\":None,\n",
    "            \"종별코드\":None,\n",
    "            \"종별코드명\":None,\n",
    "            \"읍면동\":None,\n",
    "            \"개설일자\":None,\n",
    "            \"Post No.\":None,\n",
    "            \"시군구코드\":None,\n",
    "            \"시군구코드명\":None,\n",
    "            \"시도코드\":None,\n",
    "            \"시도코드명\":None,\n",
    "            \"x좌표\":None,\n",
    "            'y좌표':None,\n",
    "            \"요양기관명\":None,\n",
    "            \"암호화요양기호\":None\n",
    "        }"
   ]
  },
  {
   "cell_type": "code",
   "execution_count": null,
   "metadata": {},
   "outputs": [],
   "source": [
    "row = list()\n",
    "\n",
    "for item in items : \n",
    "    row.append(parse())"
   ]
  },
  {
   "cell_type": "code",
   "execution_count": null,
   "metadata": {},
   "outputs": [],
   "source": [
    "df_api = pd.DataFrame(row)\n",
    "df_api.head()"
   ]
  },
  {
   "cell_type": "code",
   "execution_count": null,
   "metadata": {},
   "outputs": [],
   "source": [
    "df_api.shape[0] - df_api.count()"
   ]
  },
  {
   "cell_type": "code",
   "execution_count": null,
   "metadata": {},
   "outputs": [],
   "source": [
    "df_api.dropna(axis=0, how=\"any\", inplace=True)\n",
    "df_api.shape"
   ]
  },
  {
   "cell_type": "code",
   "execution_count": null,
   "metadata": {},
   "outputs": [],
   "source": [
    "df_api.to_csv(dirShare+\"/data/병원정보api_day2.csv\",sep=',', encoding=\"utf-8\")"
   ]
  },
  {
   "cell_type": "code",
   "execution_count": null,
   "metadata": {},
   "outputs": [],
   "source": [
    "df_day1  = pd.read_csv(dirShare+\"/data/병원정보api.csv\")\n",
    "df_day1.info()\n",
    "df_day1.head(10)"
   ]
  },
  {
   "cell_type": "code",
   "execution_count": null,
   "metadata": {},
   "outputs": [],
   "source": [
    "df_day2  = pd.read_csv(dirShare+\"/data/병원정보api_day2.csv\")\n",
    "df_day2.info()\n",
    "df_day2.head(10)"
   ]
  },
  {
   "cell_type": "code",
   "execution_count": null,
   "metadata": {},
   "outputs": [],
   "source": [
    "df_day1.sort_values(by='종별코드', axis=0, ascending=True)"
   ]
  },
  {
   "cell_type": "code",
   "execution_count": null,
   "metadata": {},
   "outputs": [],
   "source": [
    "df_day2.sort_values(by='종별코드', axis=0, ascending=True)"
   ]
  },
  {
   "cell_type": "code",
   "execution_count": null,
   "metadata": {},
   "outputs": [],
   "source": []
  }
 ],
 "metadata": {
  "kernelspec": {
   "display_name": "base",
   "language": "python",
   "name": "python3"
  },
  "language_info": {
   "codemirror_mode": {
    "name": "ipython",
    "version": 3
   },
   "file_extension": ".py",
   "mimetype": "text/x-python",
   "name": "python",
   "nbconvert_exporter": "python",
   "pygments_lexer": "ipython3",
   "version": "3.11.3"
  },
  "orig_nbformat": 4
 },
 "nbformat": 4,
 "nbformat_minor": 2
}
