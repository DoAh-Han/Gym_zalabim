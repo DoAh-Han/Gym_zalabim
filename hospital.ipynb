{
 "cells": [
  {
   "cell_type": "code",
   "execution_count": 47,
   "metadata": {},
   "outputs": [],
   "source": [
    "import pandas as pd\n",
    "import numpy as np\n",
    "from sklearn.model_selection import train_test_split\n",
    "from sklearn.preprocessing import MinMaxScaler\n",
    "from statsmodels.stats.outliers_influence import variance_inflation_factor\n",
    "from sklearn.metrics import accuracy_score, precision_score, recall_score, f1_score\n",
    "from sklearn.linear_model import LinearRegression\n",
    "import sklearn\n",
    "import statsmodels\n",
    "import statsmodels.formula.api as sm\n",
    "import matplotlib.pyplot as plt\n",
    "import seaborn as sns\n",
    "import copy\n",
    "import requests\n",
    "import pprint\n",
    "import xgboost\n",
    "import scipy\n",
    "from datetime import datetime\n",
    "from scipy import stats\n",
    "from xgboost import XGBClassifier\n",
    "from urllib import parse\n",
    "from bs4 import BeautifulSoup\n",
    "\n",
    "# 지수 형태의 실수를 소수점 3자리까지 표기\n",
    "pd.options.display.float_format = \"{:.3f}\".format\n",
    "\n",
    "# 공유 폴더 경로(나중에 경로 변경)\n",
    "dirShare = \"G:/.shortcut-targets-by-id/188U2ypi3eUvuInaixMTTbbFctprRo9e4/GYM살라빔\"\n"
   ]
  },
  {
   "cell_type": "code",
   "execution_count": 48,
   "metadata": {},
   "outputs": [
    {
     "name": "stdout",
     "output_type": "stream",
     "text": [
      "pandas 현재 버전 : 2.0.3\n",
      "scikit-learn 현재 버전 : 1.3.0\n",
      "scipy 현재 버전 : 1.11.1\n",
      "statsmodels 현재 버전 : 0.14.0\n",
      "xgboost 현재 버전 : 1.7.6\n"
     ]
    }
   ],
   "source": [
    "# 라이브러리 버전 확인\n",
    "print(\"pandas 현재 버전 : \" + pd.__version__)\n",
    "print(\"scikit-learn 현재 버전 : \" + sklearn.__version__)\n",
    "print(\"scipy 현재 버전 : \"+ scipy.__version__)\n",
    "print(\"statsmodels 현재 버전 : \" + statsmodels.__version__)\n",
    "print(\"xgboost 현재 버전 : \" + xgboost.__version__)"
   ]
  },
  {
   "cell_type": "markdown",
   "metadata": {},
   "source": [
    "# 데이터 불러오고 전처리"
   ]
  },
  {
   "cell_type": "markdown",
   "metadata": {},
   "source": [
    "## 기본전처리"
   ]
  },
  {
   "cell_type": "code",
   "execution_count": 49,
   "metadata": {},
   "outputs": [],
   "source": [
    "# def pre_data(datadir=None) : \n",
    "#     df = pd.read_csv(datadir)\n",
    "#     df[\"ownerChange\"].replace({\"same\":0},inplace=True)\n",
    "#     df[\"ownerChange\"].replace({\"change\":1},inplace=True)\n",
    "#     df = pd.get_dummies(df, columns=[\"instkind\"], prefix=[\"instkind\"], prefix_sep=\"_\", dtype=int)\n",
    "#     df.dropna(axis=0, how=\"any\", inplace=True)\n"
   ]
  },
  {
   "cell_type": "code",
   "execution_count": 50,
   "metadata": {},
   "outputs": [],
   "source": [
    "# train.csv 데이터 프레임으로 불러오기\n",
    "df = pd.read_csv(dirShare+\"/data/train.csv\")\n",
    "\n",
    "# df 정보 확인\n",
    "# df.info()\n",
    "\n",
    "# df 상위 10개 불러오기\n",
    "# df.head(10)"
   ]
  },
  {
   "cell_type": "code",
   "execution_count": 51,
   "metadata": {},
   "outputs": [],
   "source": [
    "# X_t = pd.read_csv(dirShare+\"/data/test.csv\")\n",
    "\n",
    "# X_t.info()\n",
    "# X_t.head()"
   ]
  },
  {
   "cell_type": "code",
   "execution_count": 52,
   "metadata": {},
   "outputs": [],
   "source": [
    "# X_t.shape[0] - X_t.count()"
   ]
  },
  {
   "cell_type": "code",
   "execution_count": 53,
   "metadata": {},
   "outputs": [
    {
     "name": "stdout",
     "output_type": "stream",
     "text": [
      "데이터 개수 :  301\n"
     ]
    }
   ],
   "source": [
    "# 데이터 개수 확인하기\n",
    "print(\"데이터 개수 : \", df.shape[0])\n",
    "\n",
    "# len(df)를 써도 동일"
   ]
  },
  {
   "cell_type": "code",
   "execution_count": 54,
   "metadata": {},
   "outputs": [],
   "source": [
    "# 숫자 형식의 컬럼의 기술통계값을 출력\n",
    "# df.describe()"
   ]
  },
  {
   "cell_type": "code",
   "execution_count": 55,
   "metadata": {},
   "outputs": [
    {
     "data": {
      "text/plain": [
       "inst_id                0\n",
       "OC                     0\n",
       "sido                   0\n",
       "sgg                    0\n",
       "openDate               0\n",
       "bedCount               5\n",
       "instkind               1\n",
       "revenue1               8\n",
       "salescost1             8\n",
       "sga1                   8\n",
       "salary1                8\n",
       "noi1                   8\n",
       "noe1                   8\n",
       "interest1              8\n",
       "ctax1                  8\n",
       "profit1                8\n",
       "liquidAsset1           8\n",
       "quickAsset1            8\n",
       "receivableS1           8\n",
       "inventoryAsset1        8\n",
       "nonCAsset1             8\n",
       "tanAsset1              8\n",
       "OnonCAsset1            8\n",
       "receivableL1           8\n",
       "debt1                  8\n",
       "liquidLiabilities1     8\n",
       "shortLoan1             8\n",
       "NCLiabilities1         8\n",
       "longLoan1              8\n",
       "netAsset1              8\n",
       "surplus1               8\n",
       "revenue2               8\n",
       "salescost2             8\n",
       "sga2                   8\n",
       "salary2                8\n",
       "noi2                   8\n",
       "noe2                   8\n",
       "interest2              8\n",
       "ctax2                  8\n",
       "profit2                8\n",
       "liquidAsset2           8\n",
       "quickAsset2            8\n",
       "receivableS2           8\n",
       "inventoryAsset2        8\n",
       "nonCAsset2             8\n",
       "tanAsset2              8\n",
       "OnonCAsset2            8\n",
       "receivableL2           8\n",
       "debt2                  8\n",
       "liquidLiabilities2     8\n",
       "shortLoan2             8\n",
       "NCLiabilities2         8\n",
       "longLoan2              8\n",
       "netAsset2              8\n",
       "surplus2               8\n",
       "employee1             10\n",
       "employee2             13\n",
       "ownerChange           12\n",
       "dtype: int64"
      ]
     },
     "execution_count": 55,
     "metadata": {},
     "output_type": "execute_result"
    }
   ],
   "source": [
    "# 컬럼별 null 값 확인하기\n",
    "df.shape[0] - df.count()"
   ]
  },
  {
   "cell_type": "code",
   "execution_count": 56,
   "metadata": {},
   "outputs": [],
   "source": [
    "# 아직 운영 중인 병원을 1로 변환\n",
    "df.replace({\"open\":1},inplace=True)\n",
    "# 폐업한 병원을 0으로 변환\n",
    "df.replace({\" close\":0}, inplace=True)\n",
    "# unique() 메서드를 통해 \"OC\" 컬럼의 데이터를 확인\n",
    "# df[\"OC\"].unique()"
   ]
  },
  {
   "cell_type": "code",
   "execution_count": 57,
   "metadata": {},
   "outputs": [],
   "source": [
    "# 오너 변환 여부\n",
    "df[\"ownerChange\"].replace({\"same\":0},inplace=True)\n",
    "df[\"ownerChange\"].replace({\"change\":1},inplace=True)\n",
    "# df[\"ownerChange\"].unique()"
   ]
  },
  {
   "cell_type": "code",
   "execution_count": 58,
   "metadata": {},
   "outputs": [
    {
     "data": {
      "text/plain": [
       "array(['nursing_hospital', 'general_hospital', 'hospital',\n",
       "       'traditional_clinic', 'clinic', 'traditional_hospital',\n",
       "       'dental_clinic', nan], dtype=object)"
      ]
     },
     "execution_count": 58,
     "metadata": {},
     "output_type": "execute_result"
    }
   ],
   "source": [
    "df[\"instkind\"].unique()"
   ]
  },
  {
   "cell_type": "code",
   "execution_count": 59,
   "metadata": {},
   "outputs": [],
   "source": [
    "# 병원의 종류를, get_dummies를 이용해 one-hot-encoding\n",
    "df = pd.get_dummies(df, columns=[\"instkind\"], prefix=[\"instkind\"], prefix_sep=\"_\", dtype=int)"
   ]
  },
  {
   "cell_type": "code",
   "execution_count": 60,
   "metadata": {},
   "outputs": [
    {
     "data": {
      "text/plain": [
       "296   2005-02-11\n",
       "297   2014-06-18\n",
       "298   1983-07-05\n",
       "299   2007-01-01\n",
       "300   2001-10-17\n",
       "Name: openDate, dtype: datetime64[ns]"
      ]
     },
     "execution_count": 60,
     "metadata": {},
     "output_type": "execute_result"
    }
   ],
   "source": [
    "df[\"openDate\"] = df[\"openDate\"].apply(lambda x : datetime.strptime(str(x), \"%Y%m%d\"))\n",
    "\n",
    "df[\"openDate\"].tail()"
   ]
  },
  {
   "cell_type": "code",
   "execution_count": 61,
   "metadata": {},
   "outputs": [
    {
     "data": {
      "text/plain": [
       "array(['충청남도', '경상남도', '경기도', '인천광역시', '부산광역시', '전라남도', '서울특별시', '전라북도',\n",
       "       '충청북도', '울산광역시', '대전광역시', '대구광역시', '경상북도', '강원도', '광주광역시',\n",
       "       '세종특별자치시'], dtype=object)"
      ]
     },
     "execution_count": 61,
     "metadata": {},
     "output_type": "execute_result"
    }
   ],
   "source": [
    "# 영어로 돼 있는 '시도'를 한글로 변환\n",
    "\n",
    "df[\"sido\"].replace(['choongnam', 'gyeongnam', 'gyeonggi', 'incheon', 'busan',\n",
    "       'jeonnam', 'seoul', 'jeonbuk', 'choongbuk', 'ulsan', 'daejeon',\n",
    "       'daegu', 'gyeongbuk', 'gangwon', 'gwangju', 'sejong'], \n",
    "       [\"충청남도\", \"경상남도\", \"경기도\", \"인천광역시\", '부산광역시', '전라남도', '서울특별시', \n",
    "        '전라북도', '충청북도', '울산광역시', '대전광역시', '대구광역시', \"경상북도\", \"강원도\", \"광주광역시\", \"세종특별자치시\"],inplace=True)\n",
    "\n",
    "df[\"sido\"].unique()"
   ]
  },
  {
   "cell_type": "markdown",
   "metadata": {},
   "source": [
    "## 심화전처리"
   ]
  },
  {
   "cell_type": "code",
   "execution_count": 62,
   "metadata": {},
   "outputs": [
    {
     "name": "stdout",
     "output_type": "stream",
     "text": [
      "<class 'pandas.core.frame.DataFrame'>\n",
      "RangeIndex: 18 entries, 0 to 17\n",
      "Data columns (total 4 columns):\n",
      " #   Column      Non-Null Count  Dtype \n",
      "---  ------      --------------  ----- \n",
      " 0   행정구역(시군구)별  18 non-null     object\n",
      " 1   총인구수 (명)    18 non-null     int64 \n",
      " 2   남자인구수 (명)   18 non-null     int64 \n",
      " 3   여자인구수 (명)   18 non-null     int64 \n",
      "dtypes: int64(3), object(1)\n",
      "memory usage: 708.0+ bytes\n"
     ]
    },
    {
     "data": {
      "text/html": [
       "<div>\n",
       "<style scoped>\n",
       "    .dataframe tbody tr th:only-of-type {\n",
       "        vertical-align: middle;\n",
       "    }\n",
       "\n",
       "    .dataframe tbody tr th {\n",
       "        vertical-align: top;\n",
       "    }\n",
       "\n",
       "    .dataframe thead th {\n",
       "        text-align: right;\n",
       "    }\n",
       "</style>\n",
       "<table border=\"1\" class=\"dataframe\">\n",
       "  <thead>\n",
       "    <tr style=\"text-align: right;\">\n",
       "      <th></th>\n",
       "      <th>행정구역(시군구)별</th>\n",
       "      <th>총인구수 (명)</th>\n",
       "      <th>남자인구수 (명)</th>\n",
       "      <th>여자인구수 (명)</th>\n",
       "    </tr>\n",
       "  </thead>\n",
       "  <tbody>\n",
       "    <tr>\n",
       "      <th>0</th>\n",
       "      <td>전국</td>\n",
       "      <td>51778544</td>\n",
       "      <td>25855919</td>\n",
       "      <td>25922625</td>\n",
       "    </tr>\n",
       "    <tr>\n",
       "      <th>1</th>\n",
       "      <td>서울특별시</td>\n",
       "      <td>9857426</td>\n",
       "      <td>4830206</td>\n",
       "      <td>5027220</td>\n",
       "    </tr>\n",
       "    <tr>\n",
       "      <th>2</th>\n",
       "      <td>부산광역시</td>\n",
       "      <td>3470653</td>\n",
       "      <td>1709508</td>\n",
       "      <td>1761145</td>\n",
       "    </tr>\n",
       "    <tr>\n",
       "      <th>3</th>\n",
       "      <td>대구광역시</td>\n",
       "      <td>2475231</td>\n",
       "      <td>1227814</td>\n",
       "      <td>1247417</td>\n",
       "    </tr>\n",
       "    <tr>\n",
       "      <th>4</th>\n",
       "      <td>인천광역시</td>\n",
       "      <td>2948542</td>\n",
       "      <td>1479597</td>\n",
       "      <td>1468945</td>\n",
       "    </tr>\n",
       "  </tbody>\n",
       "</table>\n",
       "</div>"
      ],
      "text/plain": [
       "  행정구역(시군구)별  총인구수 (명)  남자인구수 (명)  여자인구수 (명)\n",
       "0         전국  51778544   25855919   25922625\n",
       "1      서울특별시   9857426    4830206    5027220\n",
       "2      부산광역시   3470653    1709508    1761145\n",
       "3      대구광역시   2475231    1227814    1247417\n",
       "4      인천광역시   2948542    1479597    1468945"
      ]
     },
     "execution_count": 62,
     "metadata": {},
     "output_type": "execute_result"
    }
   ],
   "source": [
    "# 2017년 지역별 인구수 데이터\n",
    "# https://kosis.kr/statHtml/statHtml.do?orgId=101&tblId=DT_1B040A3\n",
    "pop = pd.read_csv(dirShare+\"/data/행정구역_시군구_별__성별_인구수_20230718231833.csv\", header=1, encoding=\"cp949\")\n",
    "pop.info()\n",
    "pop.head()"
   ]
  },
  {
   "cell_type": "code",
   "execution_count": 63,
   "metadata": {},
   "outputs": [
    {
     "data": {
      "text/html": [
       "<div>\n",
       "<style scoped>\n",
       "    .dataframe tbody tr th:only-of-type {\n",
       "        vertical-align: middle;\n",
       "    }\n",
       "\n",
       "    .dataframe tbody tr th {\n",
       "        vertical-align: top;\n",
       "    }\n",
       "\n",
       "    .dataframe thead th {\n",
       "        text-align: right;\n",
       "    }\n",
       "</style>\n",
       "<table border=\"1\" class=\"dataframe\">\n",
       "  <thead>\n",
       "    <tr style=\"text-align: right;\">\n",
       "      <th></th>\n",
       "      <th>inst_id</th>\n",
       "      <th>OC</th>\n",
       "      <th>sido</th>\n",
       "      <th>sgg</th>\n",
       "      <th>openDate</th>\n",
       "      <th>bedCount</th>\n",
       "      <th>revenue1</th>\n",
       "      <th>salescost1</th>\n",
       "      <th>sga1</th>\n",
       "      <th>salary1</th>\n",
       "      <th>...</th>\n",
       "      <th>instkind_dental_clinic</th>\n",
       "      <th>instkind_general_hospital</th>\n",
       "      <th>instkind_hospital</th>\n",
       "      <th>instkind_nursing_hospital</th>\n",
       "      <th>instkind_traditional_clinic</th>\n",
       "      <th>instkind_traditional_hospital</th>\n",
       "      <th>행정구역(시군구)별</th>\n",
       "      <th>총인구수 (명)</th>\n",
       "      <th>남자인구수 (명)</th>\n",
       "      <th>여자인구수 (명)</th>\n",
       "    </tr>\n",
       "  </thead>\n",
       "  <tbody>\n",
       "    <tr>\n",
       "      <th>0</th>\n",
       "      <td>1</td>\n",
       "      <td>1</td>\n",
       "      <td>충청남도</td>\n",
       "      <td>73</td>\n",
       "      <td>2007-12-28</td>\n",
       "      <td>175.000</td>\n",
       "      <td>4217530010.000</td>\n",
       "      <td>0.000</td>\n",
       "      <td>3961134739.000</td>\n",
       "      <td>2033835290.000</td>\n",
       "      <td>...</td>\n",
       "      <td>0</td>\n",
       "      <td>0</td>\n",
       "      <td>0</td>\n",
       "      <td>1</td>\n",
       "      <td>0</td>\n",
       "      <td>0</td>\n",
       "      <td>충청남도</td>\n",
       "      <td>2116770</td>\n",
       "      <td>1076270</td>\n",
       "      <td>1040500</td>\n",
       "    </tr>\n",
       "    <tr>\n",
       "      <th>1</th>\n",
       "      <td>59</td>\n",
       "      <td>1</td>\n",
       "      <td>충청남도</td>\n",
       "      <td>94</td>\n",
       "      <td>2014-03-18</td>\n",
       "      <td>258.000</td>\n",
       "      <td>8546126935.000</td>\n",
       "      <td>0.000</td>\n",
       "      <td>6737509250.000</td>\n",
       "      <td>3830658980.000</td>\n",
       "      <td>...</td>\n",
       "      <td>0</td>\n",
       "      <td>0</td>\n",
       "      <td>0</td>\n",
       "      <td>1</td>\n",
       "      <td>0</td>\n",
       "      <td>0</td>\n",
       "      <td>충청남도</td>\n",
       "      <td>2116770</td>\n",
       "      <td>1076270</td>\n",
       "      <td>1040500</td>\n",
       "    </tr>\n",
       "    <tr>\n",
       "      <th>2</th>\n",
       "      <td>101</td>\n",
       "      <td>1</td>\n",
       "      <td>충청남도</td>\n",
       "      <td>37</td>\n",
       "      <td>1982-05-04</td>\n",
       "      <td>341.000</td>\n",
       "      <td>52626386641.000</td>\n",
       "      <td>19326736791.000</td>\n",
       "      <td>32214235859.000</td>\n",
       "      <td>20975361934.000</td>\n",
       "      <td>...</td>\n",
       "      <td>0</td>\n",
       "      <td>1</td>\n",
       "      <td>0</td>\n",
       "      <td>0</td>\n",
       "      <td>0</td>\n",
       "      <td>0</td>\n",
       "      <td>충청남도</td>\n",
       "      <td>2116770</td>\n",
       "      <td>1076270</td>\n",
       "      <td>1040500</td>\n",
       "    </tr>\n",
       "    <tr>\n",
       "      <th>3</th>\n",
       "      <td>134</td>\n",
       "      <td>1</td>\n",
       "      <td>충청남도</td>\n",
       "      <td>78</td>\n",
       "      <td>1988-06-03</td>\n",
       "      <td>64.000</td>\n",
       "      <td>4402779495.000</td>\n",
       "      <td>719458530.000</td>\n",
       "      <td>4131517858.000</td>\n",
       "      <td>2436024468.000</td>\n",
       "      <td>...</td>\n",
       "      <td>0</td>\n",
       "      <td>0</td>\n",
       "      <td>1</td>\n",
       "      <td>0</td>\n",
       "      <td>0</td>\n",
       "      <td>0</td>\n",
       "      <td>충청남도</td>\n",
       "      <td>2116770</td>\n",
       "      <td>1076270</td>\n",
       "      <td>1040500</td>\n",
       "    </tr>\n",
       "    <tr>\n",
       "      <th>4</th>\n",
       "      <td>150</td>\n",
       "      <td>1</td>\n",
       "      <td>충청남도</td>\n",
       "      <td>94</td>\n",
       "      <td>2013-08-26</td>\n",
       "      <td>186.000</td>\n",
       "      <td>5237992090.000</td>\n",
       "      <td>0.000</td>\n",
       "      <td>5060655115.000</td>\n",
       "      <td>2623322811.000</td>\n",
       "      <td>...</td>\n",
       "      <td>0</td>\n",
       "      <td>0</td>\n",
       "      <td>0</td>\n",
       "      <td>1</td>\n",
       "      <td>0</td>\n",
       "      <td>0</td>\n",
       "      <td>충청남도</td>\n",
       "      <td>2116770</td>\n",
       "      <td>1076270</td>\n",
       "      <td>1040500</td>\n",
       "    </tr>\n",
       "  </tbody>\n",
       "</table>\n",
       "<p>5 rows × 68 columns</p>\n",
       "</div>"
      ],
      "text/plain": [
       "   inst_id  OC  sido  sgg   openDate  bedCount        revenue1  \\\n",
       "0        1   1  충청남도   73 2007-12-28   175.000  4217530010.000   \n",
       "1       59   1  충청남도   94 2014-03-18   258.000  8546126935.000   \n",
       "2      101   1  충청남도   37 1982-05-04   341.000 52626386641.000   \n",
       "3      134   1  충청남도   78 1988-06-03    64.000  4402779495.000   \n",
       "4      150   1  충청남도   94 2013-08-26   186.000  5237992090.000   \n",
       "\n",
       "       salescost1            sga1         salary1  ...  \\\n",
       "0           0.000  3961134739.000  2033835290.000  ...   \n",
       "1           0.000  6737509250.000  3830658980.000  ...   \n",
       "2 19326736791.000 32214235859.000 20975361934.000  ...   \n",
       "3   719458530.000  4131517858.000  2436024468.000  ...   \n",
       "4           0.000  5060655115.000  2623322811.000  ...   \n",
       "\n",
       "   instkind_dental_clinic  instkind_general_hospital  instkind_hospital  \\\n",
       "0                       0                          0                  0   \n",
       "1                       0                          0                  0   \n",
       "2                       0                          1                  0   \n",
       "3                       0                          0                  1   \n",
       "4                       0                          0                  0   \n",
       "\n",
       "   instkind_nursing_hospital  instkind_traditional_clinic  \\\n",
       "0                          1                            0   \n",
       "1                          1                            0   \n",
       "2                          0                            0   \n",
       "3                          0                            0   \n",
       "4                          1                            0   \n",
       "\n",
       "   instkind_traditional_hospital  행정구역(시군구)별  총인구수 (명)  남자인구수 (명)  여자인구수 (명)  \n",
       "0                              0        충청남도   2116770    1076270    1040500  \n",
       "1                              0        충청남도   2116770    1076270    1040500  \n",
       "2                              0        충청남도   2116770    1076270    1040500  \n",
       "3                              0        충청남도   2116770    1076270    1040500  \n",
       "4                              0        충청남도   2116770    1076270    1040500  \n",
       "\n",
       "[5 rows x 68 columns]"
      ]
     },
     "execution_count": 63,
     "metadata": {},
     "output_type": "execute_result"
    }
   ],
   "source": [
    "# df와 pop(인구수) join\n",
    "df_new = pd.merge(df, pop, how=\"inner\", left_on=\"sido\", right_on=\"행정구역(시군구)별\")\n",
    "df_new.head()"
   ]
  },
  {
   "cell_type": "code",
   "execution_count": 64,
   "metadata": {},
   "outputs": [
    {
     "name": "stdout",
     "output_type": "stream",
     "text": [
      "<class 'pandas.core.frame.DataFrame'>\n",
      "RangeIndex: 301 entries, 0 to 300\n",
      "Data columns (total 83 columns):\n",
      " #   Column                         Non-Null Count  Dtype         \n",
      "---  ------                         --------------  -----         \n",
      " 0   inst_id                        301 non-null    int64         \n",
      " 1   OC                             301 non-null    int64         \n",
      " 2   sgg                            301 non-null    int64         \n",
      " 3   openDate                       301 non-null    datetime64[ns]\n",
      " 4   bedCount                       296 non-null    float64       \n",
      " 5   revenue1                       293 non-null    float64       \n",
      " 6   salescost1                     293 non-null    float64       \n",
      " 7   sga1                           293 non-null    float64       \n",
      " 8   salary1                        293 non-null    float64       \n",
      " 9   noi1                           293 non-null    float64       \n",
      " 10  noe1                           293 non-null    float64       \n",
      " 11  interest1                      293 non-null    float64       \n",
      " 12  ctax1                          293 non-null    float64       \n",
      " 13  profit1                        293 non-null    float64       \n",
      " 14  liquidAsset1                   293 non-null    float64       \n",
      " 15  quickAsset1                    293 non-null    float64       \n",
      " 16  receivableS1                   293 non-null    float64       \n",
      " 17  inventoryAsset1                293 non-null    float64       \n",
      " 18  nonCAsset1                     293 non-null    float64       \n",
      " 19  tanAsset1                      293 non-null    float64       \n",
      " 20  OnonCAsset1                    293 non-null    float64       \n",
      " 21  receivableL1                   293 non-null    float64       \n",
      " 22  debt1                          293 non-null    float64       \n",
      " 23  liquidLiabilities1             293 non-null    float64       \n",
      " 24  shortLoan1                     293 non-null    float64       \n",
      " 25  NCLiabilities1                 293 non-null    float64       \n",
      " 26  longLoan1                      293 non-null    float64       \n",
      " 27  netAsset1                      293 non-null    float64       \n",
      " 28  surplus1                       293 non-null    float64       \n",
      " 29  revenue2                       293 non-null    float64       \n",
      " 30  salescost2                     293 non-null    float64       \n",
      " 31  sga2                           293 non-null    float64       \n",
      " 32  salary2                        293 non-null    float64       \n",
      " 33  noi2                           293 non-null    float64       \n",
      " 34  noe2                           293 non-null    float64       \n",
      " 35  interest2                      293 non-null    float64       \n",
      " 36  ctax2                          293 non-null    float64       \n",
      " 37  profit2                        293 non-null    float64       \n",
      " 38  liquidAsset2                   293 non-null    float64       \n",
      " 39  quickAsset2                    293 non-null    float64       \n",
      " 40  receivableS2                   293 non-null    float64       \n",
      " 41  inventoryAsset2                293 non-null    float64       \n",
      " 42  nonCAsset2                     293 non-null    float64       \n",
      " 43  tanAsset2                      293 non-null    float64       \n",
      " 44  OnonCAsset2                    293 non-null    float64       \n",
      " 45  receivableL2                   293 non-null    float64       \n",
      " 46  debt2                          293 non-null    float64       \n",
      " 47  liquidLiabilities2             293 non-null    float64       \n",
      " 48  shortLoan2                     293 non-null    float64       \n",
      " 49  NCLiabilities2                 293 non-null    float64       \n",
      " 50  longLoan2                      293 non-null    float64       \n",
      " 51  netAsset2                      293 non-null    float64       \n",
      " 52  surplus2                       293 non-null    float64       \n",
      " 53  employee1                      291 non-null    float64       \n",
      " 54  employee2                      288 non-null    float64       \n",
      " 55  ownerChange                    289 non-null    float64       \n",
      " 56  instkind_clinic                301 non-null    int32         \n",
      " 57  instkind_dental_clinic         301 non-null    int32         \n",
      " 58  instkind_general_hospital      301 non-null    int32         \n",
      " 59  instkind_hospital              301 non-null    int32         \n",
      " 60  instkind_nursing_hospital      301 non-null    int32         \n",
      " 61  instkind_traditional_clinic    301 non-null    int32         \n",
      " 62  instkind_traditional_hospital  301 non-null    int32         \n",
      " 63  행정구역(시군구)별                     301 non-null    object        \n",
      " 64  총인구수 (명)                       301 non-null    int64         \n",
      " 65  남자인구수 (명)                      301 non-null    int64         \n",
      " 66  여자인구수 (명)                      301 non-null    int64         \n",
      " 67  sido_강원도                       301 non-null    int32         \n",
      " 68  sido_경기도                       301 non-null    int32         \n",
      " 69  sido_경상남도                      301 non-null    int32         \n",
      " 70  sido_경상북도                      301 non-null    int32         \n",
      " 71  sido_광주광역시                     301 non-null    int32         \n",
      " 72  sido_대구광역시                     301 non-null    int32         \n",
      " 73  sido_대전광역시                     301 non-null    int32         \n",
      " 74  sido_부산광역시                     301 non-null    int32         \n",
      " 75  sido_서울특별시                     301 non-null    int32         \n",
      " 76  sido_세종특별자치시                   301 non-null    int32         \n",
      " 77  sido_울산광역시                     301 non-null    int32         \n",
      " 78  sido_인천광역시                     301 non-null    int32         \n",
      " 79  sido_전라남도                      301 non-null    int32         \n",
      " 80  sido_전라북도                      301 non-null    int32         \n",
      " 81  sido_충청남도                      301 non-null    int32         \n",
      " 82  sido_충청북도                      301 non-null    int32         \n",
      "dtypes: datetime64[ns](1), float64(52), int32(23), int64(6), object(1)\n",
      "memory usage: 168.3+ KB\n"
     ]
    }
   ],
   "source": [
    "# 시도를 one-hot-encoding\n",
    "df_new = pd.get_dummies(df_new, columns=[\"sido\"], prefix=[\"sido\"], prefix_sep=\"_\", dtype=int)\n",
    "df_new.info()"
   ]
  },
  {
   "cell_type": "code",
   "execution_count": null,
   "metadata": {},
   "outputs": [],
   "source": [
    "# 병원 군집을 통해 결측치 예측을 하고자 함\n",
    "df"
   ]
  },
  {
   "cell_type": "code",
   "execution_count": null,
   "metadata": {},
   "outputs": [],
   "source": [
    "# 병원 정보에 NULL이 존재하는 부분을 다른 값으로 대체할 수 없음\n",
    "# 병원의 매출, 비용, 이익, 직원 수와 같은 값을 다른 병원의 평균이나 중앙값으로 대체하면 안 됨\n",
    "# 회귀대체법을 하기에는 종속 변수로 둘 만한 속성값이 존재 X\n",
    "# null이 포함된 데이터가 전체 데이터의 10% 미만이므로 \n",
    "\n",
    "df.dropna(axis=0, how=\"any\", inplace=True)\n",
    "df.shape[0]"
   ]
  },
  {
   "cell_type": "code",
   "execution_count": null,
   "metadata": {},
   "outputs": [],
   "source": [
    "# 데이터 값이 0으로만 돼 있는 컬럼 삭제\n",
    "df.drop(columns=[\"receivableL1\", \"receivableL2\"], axis=1, inplace=True)\n",
    "# 시군구 코드 삭제\n",
    "df.drop(columns=\"sgg\", axis=1, inplace=True)\n",
    "# 병원 id는 분석에 있어서 의미가 없는 데이터이므로 삭제\n",
    "df.drop(columns=\"inst_id\",inplace=True)\n",
    "# 데이터 프레임에서 drop 됐는지 확인\n",
    "# df.columns"
   ]
  },
  {
   "cell_type": "code",
   "execution_count": null,
   "metadata": {},
   "outputs": [],
   "source": [
    "df_drop_obj = copy.deepcopy(df)  # 깊은 복사\n",
    "df_dr_obj_cols = df_drop_obj.columns.to_list()\n",
    "# df_dr_obj_cols"
   ]
  },
  {
   "cell_type": "markdown",
   "metadata": {},
   "source": [
    "🫡시도코드와 시군구 코드를 학습시킬 수도 있습니다.  \n",
    "One-Hot Encoding을 이용하면 되죠.  \n",
    "하지만 재무 정보와 관련된 현 데이터에서는 의미가 없을 것 같습니다.  \n",
    "그 이유는 지역의 이름 자체가, 변수로서 큰 영향력을 가지지는 않을 것 같거든요!!  \n",
    "지역이 변수로 영향을 가지려면, 그 지역의 면적, 인구밀도, 평균 소득💸 등으로 대체해야 할 것 같습니다.  \n",
    "일단 지금은 재무 정보에 대한 것으로만 예측을 해보죠!  "
   ]
  },
  {
   "cell_type": "code",
   "execution_count": null,
   "metadata": {},
   "outputs": [],
   "source": [
    "df_drop_obj2 = copy.deepcopy(df_drop_obj)\n",
    "\n",
    "# 컬럼 데이터 타입이 'object'인 컬럼 삭제\n",
    "for i in range(len(df_dr_obj_cols)) : \n",
    "    if df_drop_obj.iloc[:,i].dtype == \"object\" : \n",
    "        df_drop_obj2.drop(columns=df_dr_obj_cols[i], inplace=True)\n",
    "\n",
    "df_drop_obj = df_drop_obj2\n",
    "# df_drop_obj.info()"
   ]
  },
  {
   "cell_type": "code",
   "execution_count": null,
   "metadata": {},
   "outputs": [],
   "source": [
    "# 개업한 날짜는 변수로서 의미가 없음. 모델은 날짜를 인식하지 못하기 때문에\n",
    "# 개업 날짜와 폐업 날짜의 차이로 변수를 조정할 필요가 있음\n",
    "\n",
    "date_of_2018 = \"2018-01-01\"\n",
    "\n",
    "# 문자 타입을 date 타입으로\n",
    "date_of_2018 = datetime.strptime(date_of_2018, \"%Y-%m-%d\")\n",
    "\n",
    "df_drop_obj[\"openDate\"] = df_drop_obj[\"openDate\"].apply(lambda x : datetime.strptime(str(x), \"%Y%m%d\"))\n",
    "\n",
    "# 날짜 차이를 새로운 컬럼으로 생성, 데이터 프레임 중간에 삽입\n",
    "df_drop_obj.insert(1, \"dif_date\", date_of_2018-df_drop_obj[\"openDate\"])\n",
    "df_drop_obj[\"dif_date\"] = df_drop_obj[\"dif_date\"].dt.days"
   ]
  },
  {
   "cell_type": "code",
   "execution_count": null,
   "metadata": {},
   "outputs": [],
   "source": [
    "# 개업 날짜를 drop한 새로운 데이터프레임 생성\n",
    "df_hos = df_drop_obj.drop(columns=\"openDate\")"
   ]
  },
  {
   "cell_type": "markdown",
   "metadata": {},
   "source": [
    "## SVD를 위한 작업"
   ]
  },
  {
   "cell_type": "markdown",
   "metadata": {},
   "source": [
    "데이터의 양은 독립변수 수의 3배 이상은 돼야 함.\n",
    "독립변수로 작용하는 컬럼 수가 57개이므로 다중 공선성과 과적합, 차원의 저주의 영향이 예상되므로\n",
    "차원 축소 필요"
   ]
  },
  {
   "cell_type": "code",
   "execution_count": null,
   "metadata": {},
   "outputs": [],
   "source": [
    "# 독립변수 컬럼 샤피로 윌크 검정으로 정규성 확인\n",
    "# H0 : 변수는 정규성을 따른다.\n",
    "# H1 : 변수는 정규성을 따르지 않는다.\n",
    "\n",
    "cnt = 0\n",
    "\n",
    "for i in range(df_hos.shape[1]) : \n",
    "    cnt += 1\n",
    "    shapiro_tt = stats.shapiro(df_hos.iloc[:,i])\n",
    "    print(cnt)\n",
    "    if shapiro_tt[1] > 0.05 : \n",
    "        print(\"컬럼명 \",df_hos.columns[i],\"는(은) 귀무가설을 채택, 정규성을 따른다고 가정할 수 있습니다.\")\n",
    "    else : \n",
    "        print(\"컬럼명 \",df_hos.columns[i],\"는(은) 귀무가설을 기각, 정규성을 따른다고 가정할 수 없습니다.\")\n",
    "    print(\"-*-*-*-*-*-*-*-*-*-*-*-*-*-*-*-*-*-*-*-*-*-*-*-*-*-\")"
   ]
  },
  {
   "cell_type": "code",
   "execution_count": null,
   "metadata": {},
   "outputs": [],
   "source": [
    "import matplotlib.pyplot as plt\n",
    "\n",
    "plt.figure(figsize=(10,5))    # 그래프 사이즈 지정\n",
    "stats.probplot(df_hos.iloc[:,7], dist=stats.norm, plot=plt) #Sample은 어느 정도 어긋났는지 비교할 분포,\n",
    "                                                  #dist는 기준이 되는 분포, 정규 분포가 아니어도 된다.\n",
    "                                                  #plot은 주로 matplotlib.plt 객체 사용\n",
    "plt.show()"
   ]
  },
  {
   "cell_type": "code",
   "execution_count": null,
   "metadata": {},
   "outputs": [],
   "source": [
    "scaler = MinMaxScaler()\n",
    "\n",
    "scalerX = scaler.fit(df_hos.iloc[:,1:])\n",
    "\n",
    "X_mmsc = scaler.transform(df_hos.iloc[:,1:])\n",
    "\n",
    "# X_mmsc"
   ]
  },
  {
   "cell_type": "code",
   "execution_count": null,
   "metadata": {},
   "outputs": [],
   "source": [
    "import numpy as np\n",
    "from sklearn.decomposition import TruncatedSVD\n",
    "\n",
    "# 차원 축소를 위한 SVD 수행\n",
    "svd = TruncatedSVD(n_components=6)\n",
    "make_svd = svd.fit(X_mmsc)\n",
    "X_train_red = svd.transform(X_mmsc)"
   ]
  },
  {
   "cell_type": "markdown",
   "metadata": {},
   "source": [
    "## statsmodels를 사용한 vif 계산"
   ]
  },
  {
   "cell_type": "code",
   "execution_count": null,
   "metadata": {},
   "outputs": [],
   "source": [
    "# 병원 개/폐업 정보의 다중 회귀 분석과 검정 통계량 확인\n",
    "Models1 = sm.ols(\"OC ~ \" + \"+\".join(df_hos.columns[1:]), data=df_hos)\n",
    "result1 = Models1.fit()\n",
    "print(result1.summary())"
   ]
  },
  {
   "cell_type": "code",
   "execution_count": null,
   "metadata": {},
   "outputs": [],
   "source": [
    "# 독립변수 X와 종속변수 y로 분리\n",
    "X = df_hos.iloc[:,1:]\n",
    "y = df_hos.iloc[:,0]"
   ]
  },
  {
   "cell_type": "code",
   "execution_count": null,
   "metadata": {},
   "outputs": [],
   "source": [
    "# 독립변수들간 다중 공선성 확인, vif 지수 10 이상이면 변수 제거 고려\n",
    "vif = pd.DataFrame()\n",
    "vif[\"VIF Factor\"] = [variance_inflation_factor(X.values,i) for i in range(X.shape[1])]\n",
    "vif[\"features\"] = X.columns\n",
    "vif = vif.sort_values(\"VIF Factor\").reset_index(drop=True)\n",
    "vif"
   ]
  },
  {
   "cell_type": "code",
   "execution_count": null,
   "metadata": {},
   "outputs": [],
   "source": [
    "# vif 지수가 10미만인 컬럼명\n",
    "vif[vif[\"VIF Factor\"]<10.0][\"features\"]"
   ]
  },
  {
   "cell_type": "code",
   "execution_count": null,
   "metadata": {},
   "outputs": [],
   "source": [
    "feat_vif = vif[vif[\"VIF Factor\"]<10.0][\"features\"]\n",
    "\n",
    "fvList = [feat_vif[f] for f in range(len(feat_vif))]"
   ]
  },
  {
   "cell_type": "code",
   "execution_count": null,
   "metadata": {},
   "outputs": [],
   "source": [
    "fvList.insert(0, \"OC\")"
   ]
  },
  {
   "cell_type": "code",
   "execution_count": null,
   "metadata": {},
   "outputs": [],
   "source": [
    "df_drop_vif = df_hos[fvList]\n",
    "# df_drop_vif.head()"
   ]
  },
  {
   "cell_type": "code",
   "execution_count": null,
   "metadata": {},
   "outputs": [],
   "source": [
    "Models2 = sm.ols(\"OC ~ \" + \"+\".join(df_drop_vif.columns[1:]), data=df_drop_vif)\n",
    "result2 = Models2.fit()\n",
    "print(result2.summary())"
   ]
  },
  {
   "cell_type": "code",
   "execution_count": null,
   "metadata": {},
   "outputs": [],
   "source": [
    "\"\"\"\n",
    "vif 지수가 10 이상이라고 무조건 제거하면 안 됨!\n",
    "\"\"\""
   ]
  },
  {
   "cell_type": "markdown",
   "metadata": {},
   "source": [
    "# 모델학습"
   ]
  },
  {
   "cell_type": "code",
   "execution_count": null,
   "metadata": {},
   "outputs": [],
   "source": [
    "X_train, X_test, y_train, y_test = train_test_split(X, y, test_size=0.2, random_state=626, stratify=y)\n",
    "print(X_train.shape)\n",
    "print(X_test.shape)\n",
    "print(y_train.shape)\n",
    "print(y_test.shape)"
   ]
  },
  {
   "cell_type": "code",
   "execution_count": null,
   "metadata": {},
   "outputs": [],
   "source": [
    "model_xgb = XGBClassifier()\n",
    "xgb_model = model_xgb.fit(X_train, y_train)\n",
    "\n",
    "y_pred = xgb_model.predict(X_test)\n",
    "y_pred_prob = xgb_model.predict_proba(X_test)[:1]"
   ]
  },
  {
   "cell_type": "code",
   "execution_count": null,
   "metadata": {},
   "outputs": [],
   "source": [
    "X2 = df_drop_vif.iloc[:,1:]\n",
    "y2 = df_drop_vif.iloc[:,0]\n",
    "\n",
    "X_train2, X_test2, y_train2, y_test2= train_test_split(X2, y2, test_size=0.2, random_state=626, stratify=y2)\n",
    "print(X_train2.shape)\n",
    "print(X_test2.shape)\n",
    "print(y_train2.shape)\n",
    "print(y_test2.shape)\n",
    "\n",
    "model_xgb2 = XGBClassifier()\n",
    "xgb_model2 = model_xgb2.fit(X_train2, y_train2)\n",
    "\n",
    "y_pred2 = xgb_model2.predict(X_test2)\n",
    "y_pred_prob2 = xgb_model2.predict_proba(X_test2)[:1]\n",
    "\n",
    "print(\"정확도 : \",accuracy_score(y_test2, y_pred2))\n",
    "print(\"f1 socre : \",f1_score(y_test2, y_pred2))"
   ]
  },
  {
   "cell_type": "code",
   "execution_count": null,
   "metadata": {},
   "outputs": [],
   "source": [
    "y_train_red = df_hos.iloc[:,0].to_numpy()\n",
    "\n",
    "print(y_train_red)\n",
    "print(y_train_red.shape)"
   ]
  },
  {
   "cell_type": "code",
   "execution_count": null,
   "metadata": {},
   "outputs": [],
   "source": [
    "X_train3, X_test3, y_train3, y_test3= train_test_split(X_train_red, y_train_red, test_size=0.2, random_state=626, stratify=y_train_red)\n",
    "print(X_train3.shape)\n",
    "print(X_test3.shape)\n",
    "print(y_train3.shape)\n",
    "print(y_test3.shape)\n",
    "\n",
    "model_xgb_svd = XGBClassifier()\n",
    "xgb_model_svd = model_xgb_svd.fit(X_train3, y_train3)\n",
    "\n",
    "y_pred3 = xgb_model_svd.predict(X_test3)\n",
    "\n",
    "print(\"정확도 : \",accuracy_score(y_test3, y_pred3))\n",
    "print(\"f1 socre : \",f1_score(y_test3, y_pred3))"
   ]
  },
  {
   "cell_type": "markdown",
   "metadata": {},
   "source": [
    "# 병원 정보 api 불러오기"
   ]
  },
  {
   "cell_type": "code",
   "execution_count": null,
   "metadata": {},
   "outputs": [],
   "source": [
    "\"\"\"\n",
    "https://apis.data.go.kr/B551182/hospInfoServicev2/getHospBasisList?serviceKey=repbMvjCXw96iTs6wjKM3Htm1H480VcdawruKmikMmOYZF8aVD%2FrJDkfGoyLeTuS5Y1KEOzUrwwPIu87UQ9LbQ%3D%3D&pageNo=1&numOfRows=10&sidoCd=110000&sgguCd=110019&emdongNm=%EC%8B%A0%EB%82%B4%EB%8F%99&yadmNm=%EC%84%9C%EC%9A%B8%EC%9D%98%EB%A3%8C%EC%9B%90&zipCd=2010&clCd=11&dgsbjtCd=01&xPos=127.09854004628151&yPos=37.6132113197367&radius=3000\n",
    "\"\"\""
   ]
  },
  {
   "cell_type": "code",
   "execution_count": null,
   "metadata": {},
   "outputs": [],
   "source": [
    "serviceKey = \"repbMvjCXw96iTs6wjKM3Htm1H480VcdawruKmikMmOYZF8aVD/rJDkfGoyLeTuS5Y1KEOzUrwwPIu87UQ9LbQ==\"\n",
    "serviceKeyDecoded = parse.unquote(serviceKey, 'UTF-8')\n",
    "\n",
    "url = \"http://apis.data.go.kr/B551182/hospInfoServicev2/getHospBasisList\"\n",
    "returnType=\"xml\"\n",
    "Pindex = 1\n",
    "Psize = 1000\n",
    "\n",
    "\n",
    "queryParams = '?' + parse.urlencode({ parse.quote_plus(\"serviceKey\") : serviceKeyDecoded,\n",
    "                                parse.quote_plus(\"numOfRows\") : '10000',\n",
    "                                parse.quote_plus(\"pageNo\") : '2'\n",
    "                                    })\n",
    "\n",
    "res = requests.get(url + queryParams)"
   ]
  },
  {
   "cell_type": "code",
   "execution_count": null,
   "metadata": {},
   "outputs": [],
   "source": [
    "soup = BeautifulSoup(res.text, 'lxml-xml')\n",
    "items = soup.find_all(\"item\")"
   ]
  },
  {
   "cell_type": "code",
   "execution_count": null,
   "metadata": {},
   "outputs": [],
   "source": [
    "pprint.pprint(items)"
   ]
  },
  {
   "cell_type": "code",
   "execution_count": null,
   "metadata": {},
   "outputs": [],
   "source": [
    "len(items)"
   ]
  },
  {
   "cell_type": "code",
   "execution_count": null,
   "metadata": {},
   "outputs": [],
   "source": [
    "def parse():\n",
    "    try:\n",
    "        ADDR = item.find(\"addr\").get_text()\n",
    "        CLCD = item.find(\"clCd\").get_text()\n",
    "        CLCDNM = item.find(\"clCdNm\").get_text()\n",
    "        EMDONGNM = item.find(\"emdongNm\").get_text()\n",
    "        ESTBDB = item.find(\"estbDd\").get_text()\n",
    "        POSTNO = item.find(\"postNo\").get_text()\n",
    "        SGGUCD = item.find(\"sgguCd\").get_text()\n",
    "        SGGUCDNM = item.find(\"sgguCdNm\").get_text()\n",
    "        SIDOCD = item.find(\"sidoCd\").get_text()\n",
    "        SIDOCDNM = item.find(\"sidoCdNm\").get_text()\n",
    "        XPOS = item.find(\"XPos\").get_text()\n",
    "        YPOS = item.find(\"YPos\").get_text()\n",
    "        YADMNM = item.find(\"yadmNm\").get_text()\n",
    "        YKIHO = item.find(\"ykiho\").get_text()\n",
    "        return {\n",
    "            \"주소\":ADDR,\n",
    "            \"종별코드\":CLCD,\n",
    "            \"종별코드명\":CLCDNM,\n",
    "            \"읍면동\":EMDONGNM,\n",
    "            \"개설일자\":ESTBDB,\n",
    "            \"Post No.\":POSTNO,\n",
    "            \"시군구코드\":SGGUCD,\n",
    "            \"시군구코드명\":SGGUCDNM,\n",
    "            \"시도코드\":SIDOCD,\n",
    "            \"시도코드명\":SIDOCDNM,\n",
    "            \"x좌표\":XPOS,\n",
    "            'y좌표':YPOS,\n",
    "            \"요양기관명\":YADMNM,\n",
    "            \"암호화요양기호\":YKIHO\n",
    "        }\n",
    "    except AttributeError as e:\n",
    "        return {\n",
    "            \"주소\":None,\n",
    "            \"종별코드\":None,\n",
    "            \"종별코드명\":None,\n",
    "            \"읍면동\":None,\n",
    "            \"개설일자\":None,\n",
    "            \"Post No.\":None,\n",
    "            \"시군구코드\":None,\n",
    "            \"시군구코드명\":None,\n",
    "            \"시도코드\":None,\n",
    "            \"시도코드명\":None,\n",
    "            \"x좌표\":None,\n",
    "            'y좌표':None,\n",
    "            \"요양기관명\":None,\n",
    "            \"암호화요양기호\":None\n",
    "        }"
   ]
  },
  {
   "cell_type": "code",
   "execution_count": null,
   "metadata": {},
   "outputs": [],
   "source": [
    "row = list()\n",
    "\n",
    "for item in items : \n",
    "    row.append(parse())"
   ]
  },
  {
   "cell_type": "code",
   "execution_count": null,
   "metadata": {},
   "outputs": [],
   "source": [
    "df_api = pd.DataFrame(row)\n",
    "df_api.head()"
   ]
  },
  {
   "cell_type": "code",
   "execution_count": null,
   "metadata": {},
   "outputs": [],
   "source": [
    "df_api.shape[0] - df_api.count()"
   ]
  },
  {
   "cell_type": "code",
   "execution_count": null,
   "metadata": {},
   "outputs": [],
   "source": [
    "df_api.dropna(axis=0, how=\"any\", inplace=True)\n",
    "df_api.shape"
   ]
  },
  {
   "cell_type": "code",
   "execution_count": null,
   "metadata": {},
   "outputs": [],
   "source": [
    "df_api.to_csv(dirShare+\"/data/병원정보api_day2.csv\",sep=',', encoding=\"utf-8\")"
   ]
  },
  {
   "cell_type": "code",
   "execution_count": null,
   "metadata": {},
   "outputs": [],
   "source": [
    "df_day1  = pd.read_csv(dirShare+\"/data/병원정보api.csv\")\n",
    "df_day1.info()\n",
    "df_day1.head(10)"
   ]
  },
  {
   "cell_type": "code",
   "execution_count": null,
   "metadata": {},
   "outputs": [],
   "source": [
    "df_day2  = pd.read_csv(dirShare+\"/data/병원정보api_day2.csv\")\n",
    "df_day2.info()\n",
    "df_day2.head(10)"
   ]
  },
  {
   "cell_type": "code",
   "execution_count": null,
   "metadata": {},
   "outputs": [],
   "source": [
    "df_day1.sort_values(by='종별코드', axis=0, ascending=True)"
   ]
  },
  {
   "cell_type": "code",
   "execution_count": null,
   "metadata": {},
   "outputs": [],
   "source": [
    "df_day2.sort_values(by='종별코드', axis=0, ascending=True)"
   ]
  },
  {
   "cell_type": "code",
   "execution_count": null,
   "metadata": {},
   "outputs": [],
   "source": []
  }
 ],
 "metadata": {
  "kernelspec": {
   "display_name": "base",
   "language": "python",
   "name": "python3"
  },
  "language_info": {
   "codemirror_mode": {
    "name": "ipython",
    "version": 3
   },
   "file_extension": ".py",
   "mimetype": "text/x-python",
   "name": "python",
   "nbconvert_exporter": "python",
   "pygments_lexer": "ipython3",
   "version": "3.11.3"
  },
  "orig_nbformat": 4
 },
 "nbformat": 4,
 "nbformat_minor": 2
}
